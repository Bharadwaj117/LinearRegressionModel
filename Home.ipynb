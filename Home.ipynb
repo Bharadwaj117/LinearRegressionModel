{
 "cells": [
  {
   "cell_type": "code",
   "execution_count": 4,
   "metadata": {},
   "outputs": [],
   "source": [
    "import pandas as pd\n",
    "import numpy as np\n",
    "from sklearn.model_selection import train_test_split"
   ]
  },
  {
   "cell_type": "code",
   "execution_count": 5,
   "metadata": {},
   "outputs": [],
   "source": [
    "import matplotlib.pyplot as plt"
   ]
  },
  {
   "cell_type": "code",
   "execution_count": 18,
   "metadata": {},
   "outputs": [
    {
     "data": {
      "text/html": [
       "<div>\n",
       "<style scoped>\n",
       "    .dataframe tbody tr th:only-of-type {\n",
       "        vertical-align: middle;\n",
       "    }\n",
       "\n",
       "    .dataframe tbody tr th {\n",
       "        vertical-align: top;\n",
       "    }\n",
       "\n",
       "    .dataframe thead th {\n",
       "        text-align: right;\n",
       "    }\n",
       "</style>\n",
       "<table border=\"1\" class=\"dataframe\">\n",
       "  <thead>\n",
       "    <tr style=\"text-align: right;\">\n",
       "      <th></th>\n",
       "      <th>0</th>\n",
       "      <th>2009</th>\n",
       "      <th>21</th>\n",
       "      <th>9</th>\n",
       "      <th>6</th>\n",
       "      <th>84</th>\n",
       "      <th>121</th>\n",
       "      <th>14264</th>\n",
       "    </tr>\n",
       "  </thead>\n",
       "  <tbody>\n",
       "    <tr>\n",
       "      <th>0</th>\n",
       "      <td>1</td>\n",
       "      <td>2007</td>\n",
       "      <td>4</td>\n",
       "      <td>2</td>\n",
       "      <td>3</td>\n",
       "      <td>86</td>\n",
       "      <td>121</td>\n",
       "      <td>12032</td>\n",
       "    </tr>\n",
       "    <tr>\n",
       "      <th>1</th>\n",
       "      <td>2</td>\n",
       "      <td>2016</td>\n",
       "      <td>18</td>\n",
       "      <td>3</td>\n",
       "      <td>7</td>\n",
       "      <td>90</td>\n",
       "      <td>120</td>\n",
       "      <td>13560</td>\n",
       "    </tr>\n",
       "    <tr>\n",
       "      <th>2</th>\n",
       "      <td>3</td>\n",
       "      <td>2002</td>\n",
       "      <td>13</td>\n",
       "      <td>2</td>\n",
       "      <td>2</td>\n",
       "      <td>80</td>\n",
       "      <td>128</td>\n",
       "      <td>12029</td>\n",
       "    </tr>\n",
       "    <tr>\n",
       "      <th>3</th>\n",
       "      <td>4</td>\n",
       "      <td>2014</td>\n",
       "      <td>25</td>\n",
       "      <td>5</td>\n",
       "      <td>8</td>\n",
       "      <td>81</td>\n",
       "      <td>122</td>\n",
       "      <td>14157</td>\n",
       "    </tr>\n",
       "    <tr>\n",
       "      <th>4</th>\n",
       "      <td>5</td>\n",
       "      <td>2008</td>\n",
       "      <td>11</td>\n",
       "      <td>9</td>\n",
       "      <td>3</td>\n",
       "      <td>88</td>\n",
       "      <td>126</td>\n",
       "      <td>14287</td>\n",
       "    </tr>\n",
       "  </tbody>\n",
       "</table>\n",
       "</div>"
      ],
      "text/plain": [
       "   0  2009  21  9  6  84  121  14264\n",
       "0  1  2007   4  2  3  86  121  12032\n",
       "1  2  2016  18  3  7  90  120  13560\n",
       "2  3  2002  13  2  2  80  128  12029\n",
       "3  4  2014  25  5  8  81  122  14157\n",
       "4  5  2008  11  9  3  88  126  14287"
      ]
     },
     "execution_count": 18,
     "metadata": {},
     "output_type": "execute_result"
    }
   ],
   "source": [
    "f=pd.read_csv('C:\\\\Users\\\\bharadwaj YVRao\\\\Desktop\\\\skilling for engineering-ML\\\\Home.csv');\n",
    "f.head()"
   ]
  },
  {
   "cell_type": "code",
   "execution_count": 19,
   "metadata": {},
   "outputs": [],
   "source": [
    "f.columns=['serial','date','age','distance','store','lattitude','longitude','price']"
   ]
  },
  {
   "cell_type": "code",
   "execution_count": 20,
   "metadata": {},
   "outputs": [
    {
     "data": {
      "text/html": [
       "<div>\n",
       "<style scoped>\n",
       "    .dataframe tbody tr th:only-of-type {\n",
       "        vertical-align: middle;\n",
       "    }\n",
       "\n",
       "    .dataframe tbody tr th {\n",
       "        vertical-align: top;\n",
       "    }\n",
       "\n",
       "    .dataframe thead th {\n",
       "        text-align: right;\n",
       "    }\n",
       "</style>\n",
       "<table border=\"1\" class=\"dataframe\">\n",
       "  <thead>\n",
       "    <tr style=\"text-align: right;\">\n",
       "      <th></th>\n",
       "      <th>date</th>\n",
       "      <th>age</th>\n",
       "      <th>distance</th>\n",
       "      <th>store</th>\n",
       "      <th>lattitude</th>\n",
       "      <th>longitude</th>\n",
       "      <th>price</th>\n",
       "    </tr>\n",
       "  </thead>\n",
       "  <tbody>\n",
       "    <tr>\n",
       "      <th>0</th>\n",
       "      <td>2007</td>\n",
       "      <td>4</td>\n",
       "      <td>2</td>\n",
       "      <td>3</td>\n",
       "      <td>86</td>\n",
       "      <td>121</td>\n",
       "      <td>12032</td>\n",
       "    </tr>\n",
       "    <tr>\n",
       "      <th>1</th>\n",
       "      <td>2016</td>\n",
       "      <td>18</td>\n",
       "      <td>3</td>\n",
       "      <td>7</td>\n",
       "      <td>90</td>\n",
       "      <td>120</td>\n",
       "      <td>13560</td>\n",
       "    </tr>\n",
       "    <tr>\n",
       "      <th>2</th>\n",
       "      <td>2002</td>\n",
       "      <td>13</td>\n",
       "      <td>2</td>\n",
       "      <td>2</td>\n",
       "      <td>80</td>\n",
       "      <td>128</td>\n",
       "      <td>12029</td>\n",
       "    </tr>\n",
       "    <tr>\n",
       "      <th>3</th>\n",
       "      <td>2014</td>\n",
       "      <td>25</td>\n",
       "      <td>5</td>\n",
       "      <td>8</td>\n",
       "      <td>81</td>\n",
       "      <td>122</td>\n",
       "      <td>14157</td>\n",
       "    </tr>\n",
       "    <tr>\n",
       "      <th>4</th>\n",
       "      <td>2008</td>\n",
       "      <td>11</td>\n",
       "      <td>9</td>\n",
       "      <td>3</td>\n",
       "      <td>88</td>\n",
       "      <td>126</td>\n",
       "      <td>14287</td>\n",
       "    </tr>\n",
       "  </tbody>\n",
       "</table>\n",
       "</div>"
      ],
      "text/plain": [
       "   date  age  distance  store  lattitude  longitude  price\n",
       "0  2007    4         2      3         86        121  12032\n",
       "1  2016   18         3      7         90        120  13560\n",
       "2  2002   13         2      2         80        128  12029\n",
       "3  2014   25         5      8         81        122  14157\n",
       "4  2008   11         9      3         88        126  14287"
      ]
     },
     "execution_count": 20,
     "metadata": {},
     "output_type": "execute_result"
    }
   ],
   "source": [
    "#Normilize the given data\n",
    "f=f.iloc[:,1:] #removes sequence in dataset\n",
    "f.head()"
   ]
  },
  {
   "cell_type": "code",
   "execution_count": 29,
   "metadata": {},
   "outputs": [
    {
     "data": {
      "text/html": [
       "<div>\n",
       "<style scoped>\n",
       "    .dataframe tbody tr th:only-of-type {\n",
       "        vertical-align: middle;\n",
       "    }\n",
       "\n",
       "    .dataframe tbody tr th {\n",
       "        vertical-align: top;\n",
       "    }\n",
       "\n",
       "    .dataframe thead th {\n",
       "        text-align: right;\n",
       "    }\n",
       "</style>\n",
       "<table border=\"1\" class=\"dataframe\">\n",
       "  <thead>\n",
       "    <tr style=\"text-align: right;\">\n",
       "      <th></th>\n",
       "      <th>date</th>\n",
       "      <th>age</th>\n",
       "      <th>distance</th>\n",
       "      <th>store</th>\n",
       "      <th>lattitude</th>\n",
       "      <th>longitude</th>\n",
       "      <th>price</th>\n",
       "    </tr>\n",
       "  </thead>\n",
       "  <tbody>\n",
       "    <tr>\n",
       "      <th>0</th>\n",
       "      <td>-0.350447</td>\n",
       "      <td>-1.318954</td>\n",
       "      <td>-0.930413</td>\n",
       "      <td>-0.609189</td>\n",
       "      <td>0.325211</td>\n",
       "      <td>-1.261125</td>\n",
       "      <td>-1.836255</td>\n",
       "    </tr>\n",
       "    <tr>\n",
       "      <th>1</th>\n",
       "      <td>1.298471</td>\n",
       "      <td>-0.083366</td>\n",
       "      <td>-0.617878</td>\n",
       "      <td>0.663413</td>\n",
       "      <td>1.590122</td>\n",
       "      <td>-1.576801</td>\n",
       "      <td>-0.339484</td>\n",
       "    </tr>\n",
       "    <tr>\n",
       "      <th>2</th>\n",
       "      <td>-1.266513</td>\n",
       "      <td>-0.524647</td>\n",
       "      <td>-0.930413</td>\n",
       "      <td>-0.927340</td>\n",
       "      <td>-1.572157</td>\n",
       "      <td>0.948607</td>\n",
       "      <td>-1.839193</td>\n",
       "    </tr>\n",
       "    <tr>\n",
       "      <th>3</th>\n",
       "      <td>0.932045</td>\n",
       "      <td>0.534428</td>\n",
       "      <td>0.007190</td>\n",
       "      <td>0.981564</td>\n",
       "      <td>-1.255929</td>\n",
       "      <td>-0.945449</td>\n",
       "      <td>0.245315</td>\n",
       "    </tr>\n",
       "    <tr>\n",
       "      <th>4</th>\n",
       "      <td>-0.167234</td>\n",
       "      <td>-0.701160</td>\n",
       "      <td>1.257326</td>\n",
       "      <td>-0.609189</td>\n",
       "      <td>0.957666</td>\n",
       "      <td>0.317255</td>\n",
       "      <td>0.372658</td>\n",
       "    </tr>\n",
       "  </tbody>\n",
       "</table>\n",
       "</div>"
      ],
      "text/plain": [
       "       date       age  distance     store  lattitude  longitude     price\n",
       "0 -0.350447 -1.318954 -0.930413 -0.609189   0.325211  -1.261125 -1.836255\n",
       "1  1.298471 -0.083366 -0.617878  0.663413   1.590122  -1.576801 -0.339484\n",
       "2 -1.266513 -0.524647 -0.930413 -0.927340  -1.572157   0.948607 -1.839193\n",
       "3  0.932045  0.534428  0.007190  0.981564  -1.255929  -0.945449  0.245315\n",
       "4 -0.167234 -0.701160  1.257326 -0.609189   0.957666   0.317255  0.372658"
      ]
     },
     "execution_count": 29,
     "metadata": {},
     "output_type": "execute_result"
    }
   ],
   "source": [
    "df_norm=(f-f.mean())/f.std()\n",
    "df_norm.head()"
   ]
  },
  {
   "cell_type": "code",
   "execution_count": 25,
   "metadata": {},
   "outputs": [
    {
     "data": {
      "text/plain": [
       "13906.567113422685"
      ]
     },
     "execution_count": 25,
     "metadata": {},
     "output_type": "execute_result"
    }
   ],
   "source": [
    "#convert label value\n",
    "y_mean=f['price'].mean()\n",
    "y_mean\n",
    "#y_std=df['price'].std()"
   ]
  },
  {
   "cell_type": "code",
   "execution_count": 27,
   "metadata": {},
   "outputs": [
    {
     "data": {
      "text/plain": [
       "1020.8644724718125"
      ]
     },
     "execution_count": 27,
     "metadata": {},
     "output_type": "execute_result"
    }
   ],
   "source": [
    "y_std=f['price'].std()\n",
    "y_std"
   ]
  },
  {
   "cell_type": "code",
   "execution_count": 28,
   "metadata": {},
   "outputs": [
    {
     "name": "stdout",
     "output_type": "stream",
     "text": [
      "12031.763801830815\n"
     ]
    }
   ],
   "source": [
    "#as we are predicting price it must not be negative ,so we use this function\n",
    "def convert_label_valuee(pred):\n",
    "    return(pred*y_std+y_mean)\n",
    "\n",
    "#example input\n",
    "print(convert_label_valuee(-1.836486))"
   ]
  },
  {
   "cell_type": "code",
   "execution_count": 31,
   "metadata": {},
   "outputs": [
    {
     "data": {
      "text/html": [
       "<div>\n",
       "<style scoped>\n",
       "    .dataframe tbody tr th:only-of-type {\n",
       "        vertical-align: middle;\n",
       "    }\n",
       "\n",
       "    .dataframe tbody tr th {\n",
       "        vertical-align: top;\n",
       "    }\n",
       "\n",
       "    .dataframe thead th {\n",
       "        text-align: right;\n",
       "    }\n",
       "</style>\n",
       "<table border=\"1\" class=\"dataframe\">\n",
       "  <thead>\n",
       "    <tr style=\"text-align: right;\">\n",
       "      <th></th>\n",
       "      <th>date</th>\n",
       "      <th>age</th>\n",
       "      <th>distance</th>\n",
       "      <th>store</th>\n",
       "      <th>lattitude</th>\n",
       "      <th>longitude</th>\n",
       "    </tr>\n",
       "  </thead>\n",
       "  <tbody>\n",
       "    <tr>\n",
       "      <th>0</th>\n",
       "      <td>-0.350447</td>\n",
       "      <td>-1.318954</td>\n",
       "      <td>-0.930413</td>\n",
       "      <td>-0.609189</td>\n",
       "      <td>0.325211</td>\n",
       "      <td>-1.261125</td>\n",
       "    </tr>\n",
       "    <tr>\n",
       "      <th>1</th>\n",
       "      <td>1.298471</td>\n",
       "      <td>-0.083366</td>\n",
       "      <td>-0.617878</td>\n",
       "      <td>0.663413</td>\n",
       "      <td>1.590122</td>\n",
       "      <td>-1.576801</td>\n",
       "    </tr>\n",
       "    <tr>\n",
       "      <th>2</th>\n",
       "      <td>-1.266513</td>\n",
       "      <td>-0.524647</td>\n",
       "      <td>-0.930413</td>\n",
       "      <td>-0.927340</td>\n",
       "      <td>-1.572157</td>\n",
       "      <td>0.948607</td>\n",
       "    </tr>\n",
       "    <tr>\n",
       "      <th>3</th>\n",
       "      <td>0.932045</td>\n",
       "      <td>0.534428</td>\n",
       "      <td>0.007190</td>\n",
       "      <td>0.981564</td>\n",
       "      <td>-1.255929</td>\n",
       "      <td>-0.945449</td>\n",
       "    </tr>\n",
       "    <tr>\n",
       "      <th>4</th>\n",
       "      <td>-0.167234</td>\n",
       "      <td>-0.701160</td>\n",
       "      <td>1.257326</td>\n",
       "      <td>-0.609189</td>\n",
       "      <td>0.957666</td>\n",
       "      <td>0.317255</td>\n",
       "    </tr>\n",
       "  </tbody>\n",
       "</table>\n",
       "</div>"
      ],
      "text/plain": [
       "       date       age  distance     store  lattitude  longitude\n",
       "0 -0.350447 -1.318954 -0.930413 -0.609189   0.325211  -1.261125\n",
       "1  1.298471 -0.083366 -0.617878  0.663413   1.590122  -1.576801\n",
       "2 -1.266513 -0.524647 -0.930413 -0.927340  -1.572157   0.948607\n",
       "3  0.932045  0.534428  0.007190  0.981564  -1.255929  -0.945449\n",
       "4 -0.167234 -0.701160  1.257326 -0.609189   0.957666   0.317255"
      ]
     },
     "execution_count": 31,
     "metadata": {},
     "output_type": "execute_result"
    }
   ],
   "source": [
    "#task 3 \n",
    "#select features\n",
    "x=df_norm.iloc[:,:6]\n",
    "x.head()"
   ]
  },
  {
   "cell_type": "code",
   "execution_count": 32,
   "metadata": {},
   "outputs": [
    {
     "data": {
      "text/plain": [
       "0   -1.836255\n",
       "1   -0.339484\n",
       "2   -1.839193\n",
       "3    0.245315\n",
       "4    0.372658\n",
       "Name: price, dtype: float64"
      ]
     },
     "execution_count": 32,
     "metadata": {},
     "output_type": "execute_result"
    }
   ],
   "source": [
    "#select labels(Target)\n",
    "y=df_norm.iloc[:,-1]\n",
    "y.head()"
   ]
  },
  {
   "cell_type": "code",
   "execution_count": 54,
   "metadata": {},
   "outputs": [
    {
     "data": {
      "text/plain": [
       "array([-1.83625463, -0.33948396, -1.83919332, ...,  0.19143862,\n",
       "        0.39812619, -1.11333791])"
      ]
     },
     "execution_count": 54,
     "metadata": {},
     "output_type": "execute_result"
    }
   ],
   "source": [
    "#convert those values from list to respective arrays\n",
    "#features and labels values\n",
    "x_arr=x.values\n",
    "y_arr=y.values\n",
    "y_arr"
   ]
  },
  {
   "cell_type": "code",
   "execution_count": 43,
   "metadata": {},
   "outputs": [
    {
     "data": {
      "text/plain": [
       "array([-0.79595983, -0.36397301, -1.05260506, ...,  0.78701229,\n",
       "       -0.36201388, -1.81078602])"
      ]
     },
     "execution_count": 43,
     "metadata": {},
     "output_type": "execute_result"
    }
   ],
   "source": [
    "#train and Test split \n",
    "X_train,X_test,y_train,y_test=train_test_split(x_arr,y_arr,test_size=0.75)\n",
    "y_test"
   ]
  },
  {
   "cell_type": "code",
   "execution_count": 35,
   "metadata": {},
   "outputs": [],
   "source": [
    "from sklearn.linear_model import LinearRegression"
   ]
  },
  {
   "cell_type": "code",
   "execution_count": 36,
   "metadata": {},
   "outputs": [
    {
     "data": {
      "text/plain": [
       "LinearRegression(copy_X=True, fit_intercept=True, n_jobs=None, normalize=False)"
      ]
     },
     "execution_count": 36,
     "metadata": {},
     "output_type": "execute_result"
    }
   ],
   "source": [
    "lin=LinearRegression()\n",
    "lin.fit(X_train,y_train)"
   ]
  },
  {
   "cell_type": "code",
   "execution_count": 52,
   "metadata": {},
   "outputs": [
    {
     "data": {
      "text/plain": [
       "array([13235.47479921, 13597.68564954, 12585.35720162, ...,\n",
       "       14518.42214732, 12989.22483087, 12607.64993878])"
      ]
     },
     "execution_count": 52,
     "metadata": {},
     "output_type": "execute_result"
    }
   ],
   "source": [
    "y_pr=lin.predict(X_test)\n",
    "y_predict=convert_label_valuee(y_pr)\n",
    "y_predict"
   ]
  },
  {
   "cell_type": "code",
   "execution_count": 50,
   "metadata": {},
   "outputs": [
    {
     "data": {
      "text/plain": [
       "array([1.36603096e+10, 1.41199040e+10, 1.33872626e+10, ...,\n",
       "       1.53444471e+10, 1.41219884e+10, 1.25806274e+10])"
      ]
     },
     "execution_count": 50,
     "metadata": {},
     "output_type": "execute_result"
    }
   ],
   "source": [
    "#lets convert predicted values from float to numbers as seen in the first data\n",
    "y_test=convert_label_valuee(y_test)\n",
    "y_test"
   ]
  },
  {
   "cell_type": "code",
   "execution_count": 48,
   "metadata": {},
   "outputs": [
    {
     "data": {
      "text/plain": [
       "array([1.41350497e+10, 1.28468713e+10, 1.49383861e+10, ...,\n",
       "       1.43972036e+10, 1.40554143e+10, 1.26617666e+10])"
      ]
     },
     "execution_count": 48,
     "metadata": {},
     "output_type": "execute_result"
    }
   ],
   "source": [
    "y_pr"
   ]
  },
  {
   "cell_type": "code",
   "execution_count": 55,
   "metadata": {},
   "outputs": [
    {
     "name": "stdout",
     "output_type": "stream",
     "text": [
      "2.1172226951402527e+20\n"
     ]
    }
   ],
   "source": [
    "from sklearn import metrics\n",
    "print(metrics.mean_squared_error(y_pr,y_test))\n"
   ]
  },
  {
   "cell_type": "code",
   "execution_count": null,
   "metadata": {},
   "outputs": [],
   "source": []
  },
  {
   "cell_type": "code",
   "execution_count": null,
   "metadata": {},
   "outputs": [],
   "source": []
  }
 ],
 "metadata": {
  "kernelspec": {
   "display_name": "Python 3",
   "language": "python",
   "name": "python3"
  },
  "language_info": {
   "codemirror_mode": {
    "name": "ipython",
    "version": 3
   },
   "file_extension": ".py",
   "mimetype": "text/x-python",
   "name": "python",
   "nbconvert_exporter": "python",
   "pygments_lexer": "ipython3",
   "version": "3.6.10"
  }
 },
 "nbformat": 4,
 "nbformat_minor": 4
}
